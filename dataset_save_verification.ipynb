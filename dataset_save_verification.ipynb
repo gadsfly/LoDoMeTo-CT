{
 "cells": [
  {
   "cell_type": "code",
   "execution_count": 2,
   "id": "9c3e34fd-4d89-4e89-8eae-4a4a62ab8959",
   "metadata": {},
   "outputs": [
    {
     "name": "stdout",
     "output_type": "stream",
     "text": [
      "train n= 35840\n",
      "val n= 3584\n",
      "test n= 3584\n"
     ]
    }
   ],
   "source": [
    "from pathlib import Path\n",
    "\n",
    "version = 1\n",
    "for dset in ['train', 'val', 'test']:\n",
    "    output_dir = '/work/bel25/sim_datasets/{}_dobj_v{}'.format(dset, version)\n",
    "    paths = list(Path(output_dir).iterdir())\n",
    "    print(dset, f\"n= {len(paths)}\")"
   ]
  },
  {
   "cell_type": "code",
   "execution_count": null,
   "id": "614cf2ff-fcc9-4a50-9460-cc908d05fd85",
   "metadata": {},
   "outputs": [],
   "source": []
  }
 ],
 "metadata": {
  "kernelspec": {
   "display_name": "proj_548",
   "language": "python",
   "name": "proj_548"
  },
  "language_info": {
   "codemirror_mode": {
    "name": "ipython",
    "version": 3
   },
   "file_extension": ".py",
   "mimetype": "text/x-python",
   "name": "python",
   "nbconvert_exporter": "python",
   "pygments_lexer": "ipython3",
   "version": "3.8.16"
  }
 },
 "nbformat": 4,
 "nbformat_minor": 5
}
