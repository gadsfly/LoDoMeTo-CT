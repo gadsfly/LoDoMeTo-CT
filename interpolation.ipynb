{
 "cells": [
  {
   "cell_type": "code",
   "execution_count": 7,
   "id": "c7b11548-e941-48c2-80f6-7cf40fcb4c16",
   "metadata": {},
   "outputs": [],
   "source": [
    "from main import unet_model, get_ds, save_pickle"
   ]
  },
  {
   "cell_type": "code",
   "execution_count": 3,
   "id": "1e30af30-b8bf-4b25-bc29-6b6f6507d480",
   "metadata": {},
   "outputs": [],
   "source": [
    "# load datasets\n",
    "train_ds = get_ds('train', version=2, n=1000, ds_bsz=1)\n",
    "val_ds = get_ds('val', version=2, n=250, ds_bsz=1)"
   ]
  },
  {
   "cell_type": "code",
   "execution_count": 6,
   "id": "19fb94be-4fae-41b0-bc2d-b8a1b21e4d04",
   "metadata": {},
   "outputs": [],
   "source": [
    "# next(iter(train_ds))[0]"
   ]
  },
  {
   "cell_type": "code",
   "execution_count": null,
   "id": "2b220903-dd9e-45ef-9e45-e751c549df2c",
   "metadata": {},
   "outputs": [],
   "source": [
    "# load model and submodels\n",
    "\n",
    "# consider making into a big loop\n",
    "sr = 0.1\n",
    "\n",
    "unet = unet_model(sr=sr)\n",
    "\n",
    "sm_input_sino = Model(inputs=unet.inputs,\n",
    "                          outputs=unet.get_layer(name='input_sino').output)\n",
    "\n",
    "sm_input_scan = Model(inputs=unet.inputs,\n",
    "                          outputs=unet.get_layer(name='input_scan').output)\n",
    "\n",
    "sm_sampled = Model(inputs=unet.inputs,\n",
    "                          outputs=unet.get_layer(name='sample').output)\n",
    "\n",
    "\n",
    "# also do for train_ds\n",
    "for batch in iter(val_ds):\n",
    "    \n",
    "    input_ =  batch[0]\n",
    "    \n",
    "    input_sino = sm_input_sino(input_).numpy().squeeze()\n",
    "    input_scan = sm_input_scan(input_).numpy().squeeze()\n",
    "    sampled_sino = sm_sampled(input_).numpy().squeeze()\n",
    "\n",
    "    interpolated_sino = ...\n",
    "\n",
    "    theta = np.linspace(0., 180., 512, endpoint=False)\n",
    "    recon_scans = iradon(s, theta=theta, circle=False)\n",
    "\n",
    "# after you get the interpolated sinos and recons, use the metrics to compare them\n",
    "# convert back to tensorflow tensors if needed\n",
    "\n",
    "# for the following sample rates\n",
    "# (mse, psnr, ssim) for each, and for each on the train and val\n",
    "sample_rates = [1/32, 1/16, 1/8, 1/4, 1/2]\n",
    "\n",
    "# save the results in a dictionary\n",
    "{:\n",
    "    }\n",
    "\n",
    "# save_pickle(dict_, filepath)"
   ]
  },
  {
   "cell_type": "code",
   "execution_count": null,
   "id": "5eb4cc35-d2bf-46dd-9ca5-5c947ce4912a",
   "metadata": {},
   "outputs": [],
   "source": [
    "def mse(tens1, tens2):\n",
    "    return tf.reduce_mean(tf.square(tens1 - tens2))\n",
    "\n",
    "def psnr(tens1, tens2):\n",
    "    return tf.image.psnr(tens1, tens2, max_val=1.0)\n",
    "\n",
    "def ssim(tens1, tens2):\n",
    "    return tf.image.ssim(tens1, tens2, max_val=1.0, filter_size=4,\n",
    "                          filter_sigma=1.5, k1=0.01, k2=0.03)"
   ]
  }
 ],
 "metadata": {
  "kernelspec": {
   "display_name": "tensorflow",
   "language": "python",
   "name": "tensorflow"
  },
  "language_info": {
   "codemirror_mode": {
    "name": "ipython",
    "version": 3
   },
   "file_extension": ".py",
   "mimetype": "text/x-python",
   "name": "python",
   "nbconvert_exporter": "python",
   "pygments_lexer": "ipython3",
   "version": "3.9.16"
  }
 },
 "nbformat": 4,
 "nbformat_minor": 5
}
