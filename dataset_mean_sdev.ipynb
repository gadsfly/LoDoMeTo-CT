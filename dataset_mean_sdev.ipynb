{
 "cells": [
  {
   "cell_type": "code",
   "execution_count": 1,
   "id": "906d1d0e-3050-467d-a630-4cbb05749dff",
   "metadata": {},
   "outputs": [],
   "source": [
    "from racts_utils import load_sim_data\n",
    "import numpy as np "
   ]
  },
  {
   "cell_type": "code",
   "execution_count": 7,
   "id": "48024f47-3f18-4bc6-88bc-d6cc67b73fcd",
   "metadata": {},
   "outputs": [
    {
     "name": "stdout",
     "output_type": "stream",
     "text": [
      "0.0 5.16\n",
      "0.0 239.87935\n",
      "\n"
     ]
    }
   ],
   "source": [
    "for i in range(1,2):\n",
    "    scan, sino, settings= load_sim_data(i, dset='train', version=2)\n",
    "    print(scan.min(), scan.max())\n",
    "    print(sino.min(), sino.max())\n",
    "    print()"
   ]
  },
  {
   "cell_type": "code",
   "execution_count": 13,
   "id": "4d3f8c4f-19ad-4f34-afa8-ac4d41afbb3b",
   "metadata": {},
   "outputs": [
    {
     "name": "stdout",
     "output_type": "stream",
     "text": [
      "10: mu 0.23   sd 0.61   max 5.16\n",
      "100: mu 0.22   sd 0.53   max 5.16\n"
     ]
    }
   ],
   "source": [
    "    \n",
    "def calculate_mean_sd_max(file_indices, version=2, on='sino'):\n",
    "    \n",
    "    mean = 0.0\n",
    "    sd = 0.0\n",
    "    max_ = 0\n",
    "    total_images = len(file_indices)\n",
    "    # calculate mean\n",
    "    for i in file_indices:\n",
    "        scan, sino, settings = load_sim_data(i, dset='train', version=2)\n",
    "        if on == 'sino':\n",
    "            arr = sino\n",
    "        if on == 'scan':\n",
    "            arr = scan\n",
    "        mean += np.mean(arr)\n",
    "        if np.max(arr) > max_:\n",
    "            max_ = np.max(arr)\n",
    "\n",
    "    mean /= total_images\n",
    "\n",
    "    # calculate standard deviation\n",
    "    for i in file_indices:\n",
    "        scan, sino, settings = load_sim_data(i, dset='train', version=2)\n",
    "        if on == 'sino':\n",
    "            arr = sino\n",
    "        if on == 'scan':\n",
    "            arr = scan\n",
    "        sd += np.mean((arr - mean) ** 2)\n",
    "\n",
    "    sd = np.sqrt(sd / total_images)\n",
    "\n",
    "    return mean, sd, max_\n",
    "\n",
    "end_i = [10,100]\n",
    "for ei in end_i:\n",
    "    file_indices = np.arange(1,ei)\n",
    "    mean, sd, max_ = calculate_mean_sd_max(file_indices, version=2, on='scan')\n",
    "    print(\"{}: mu {:.2f}   sd {:.2f}   max {:.2f}\".format(ei, mean, sd, max_))"
   ]
  },
  {
   "cell_type": "code",
   "execution_count": 12,
   "id": "5f8d91c5-5689-42e0-b65d-b3828d2cca3b",
   "metadata": {},
   "outputs": [
    {
     "name": "stdout",
     "output_type": "stream",
     "text": [
      "10000: mu 56.31   sd 62.80   max 432.51\n"
     ]
    }
   ],
   "source": [
    "# end_i = [10, 100, 1000, 2000, 3000]\n",
    "end_i = [10000]\n",
    "for ei in end_i:\n",
    "    file_indices = np.arange(1,ei)\n",
    "    mean, sd, max_ = calculate_mean_sd_max(file_indices, version=2)\n",
    "    print(\"{}: mu {:.2f}   sd {:.2f}   max {:.2f}\".format(ei, mean, sd, max_))"
   ]
  },
  {
   "cell_type": "code",
   "execution_count": null,
   "id": "84020963-4cfa-4508-8387-988d544568fe",
   "metadata": {},
   "outputs": [],
   "source": []
  }
 ],
 "metadata": {
  "kernelspec": {
   "display_name": "Python 3",
   "language": "python",
   "name": "python3"
  },
  "language_info": {
   "codemirror_mode": {
    "name": "ipython",
    "version": 3
   },
   "file_extension": ".py",
   "mimetype": "text/x-python",
   "name": "python",
   "nbconvert_exporter": "python",
   "pygments_lexer": "ipython3",
   "version": "3.8.8"
  }
 },
 "nbformat": 4,
 "nbformat_minor": 5
}
