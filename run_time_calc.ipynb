{
 "cells": [
  {
   "cell_type": "code",
   "execution_count": null,
   "id": "3b71e22e-8690-414e-b04b-924635d45a47",
   "metadata": {},
   "outputs": [],
   "source": []
  },
  {
   "cell_type": "code",
   "execution_count": 3,
   "id": "1aa6a34f-5399-47d3-a1b3-66ba56cba26c",
   "metadata": {},
   "outputs": [
    {
     "data": {
      "text/plain": [
       "849.0566037735848"
      ]
     },
     "execution_count": 3,
     "metadata": {},
     "output_type": "execute_result"
    }
   ],
   "source": [
    "testing_n_train = 500\n",
    "one_epoch_train_t = 106\n",
    "t_sample = one_epoch_train_t/testing_n_train\n",
    "\n",
    "n_epochs = 5\n",
    "t_tot_m = 15\n",
    "t_tot_s = t_tot_m*60\n",
    "\n",
    "n_train = t_tot_s/(t_sample*n_epochs)\n",
    "n_train\n",
    "# t_tot = n_train*t_sample*n_epochs"
   ]
  },
  {
   "cell_type": "code",
   "execution_count": 6,
   "id": "f882a473-747a-4036-bf48-735bddbd8b73",
   "metadata": {},
   "outputs": [
    {
     "data": {
      "text/plain": [
       "3.055555555555556"
      ]
     },
     "execution_count": 6,
     "metadata": {},
     "output_type": "execute_result"
    }
   ],
   "source": [
    "testing_n_train = 100\n",
    "one_epoch_train_t = 110\n",
    "t_sample = one_epoch_train_t/testing_n_train\n",
    "\n",
    "n_epochs = 10\n",
    "t_tot_m = 6*60\n",
    "t_tot_s = t_tot_m*60\n",
    "\n",
    "n_train = t_tot_s/(t_sample*n_epochs)\n",
    "n_train\n",
    "# t_tot = n_train*t_sample*n_epochs\n",
    "\n",
    "use_n_train = 1000\n",
    "proj_t_h = use_n_train*t_sample*n_epochs/60/60\n",
    "proj_t_h"
   ]
  }
 ],
 "metadata": {
  "kernelspec": {
   "display_name": "Python 3",
   "language": "python",
   "name": "python3"
  },
  "language_info": {
   "codemirror_mode": {
    "name": "ipython",
    "version": 3
   },
   "file_extension": ".py",
   "mimetype": "text/x-python",
   "name": "python",
   "nbconvert_exporter": "python",
   "pygments_lexer": "ipython3",
   "version": "3.8.8"
  }
 },
 "nbformat": 4,
 "nbformat_minor": 5
}
