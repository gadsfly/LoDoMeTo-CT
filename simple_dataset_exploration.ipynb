{
 "cells": [
  {
   "cell_type": "code",
   "execution_count": 6,
   "id": "b8ef71fe-15a2-42df-b143-7aca9b794340",
   "metadata": {},
   "outputs": [],
   "source": [
    "import h5py\n",
    "import pandas as pd\n",
    "from pathlib import Path\n",
    "\n",
    "path = \"/work/bel25/datasets/ground_truth_test_000.hdf5\"\n",
    "\n",
    "f = h5py.File(path, 'r')\n",
    "n = f['data'].shape[0]"
   ]
  },
  {
   "cell_type": "code",
   "execution_count": null,
   "id": "e22bf01b-0e3a-4b39-b0d9-87132afeb994",
   "metadata": {},
   "outputs": [],
   "source": [
    "ct_dct = {}\n",
    "for dset in ['train', 'val', 'test']:\n",
    "    ct_dct[dset] = {}\n",
    "    for mode in ['ground_truth', 'observation']:\n",
    "        paths = Path(\"/work/bel25/datasets/\").iterdir()\n",
    "        ct_dct[dset][mode] = 0\n",
    "        curr = filter(lambda x : dset in x.name and mode in x.name, paths )\n",
    "        for p in curr:\n",
    "            f = h5py.File(p, 'r')\n",
    "            ct_dct[dset][mode] += f['data'].shape[0]\n",
    "            print(p, f['data'].shape)\n",
    "            "
   ]
  },
  {
   "cell_type": "code",
   "execution_count": 42,
   "id": "a4671c00-fd02-40fc-97d6-4a775e3c5e24",
   "metadata": {},
   "outputs": [
    {
     "data": {
      "text/html": [
       "<div>\n",
       "<style scoped>\n",
       "    .dataframe tbody tr th:only-of-type {\n",
       "        vertical-align: middle;\n",
       "    }\n",
       "\n",
       "    .dataframe tbody tr th {\n",
       "        vertical-align: top;\n",
       "    }\n",
       "\n",
       "    .dataframe thead th {\n",
       "        text-align: right;\n",
       "    }\n",
       "</style>\n",
       "<table border=\"1\" class=\"dataframe\">\n",
       "  <thead>\n",
       "    <tr style=\"text-align: right;\">\n",
       "      <th></th>\n",
       "      <th>train</th>\n",
       "      <th>val</th>\n",
       "      <th>test</th>\n",
       "    </tr>\n",
       "  </thead>\n",
       "  <tbody>\n",
       "    <tr>\n",
       "      <th>ground_truth</th>\n",
       "      <td>35840</td>\n",
       "      <td>3584</td>\n",
       "      <td>3584</td>\n",
       "    </tr>\n",
       "    <tr>\n",
       "      <th>observation</th>\n",
       "      <td>35820</td>\n",
       "      <td>3522</td>\n",
       "      <td>3553</td>\n",
       "    </tr>\n",
       "  </tbody>\n",
       "</table>\n",
       "</div>"
      ],
      "text/plain": [
       "              train   val  test\n",
       "ground_truth  35840  3584  3584\n",
       "observation   35820  3522  3553"
      ]
     },
     "execution_count": 42,
     "metadata": {},
     "output_type": "execute_result"
    }
   ],
   "source": [
    "pd.DataFrame(ct_dct)"
   ]
  }
 ],
 "metadata": {
  "kernelspec": {
   "display_name": "cl_proj5a",
   "language": "python",
   "name": "cl_proj5a"
  },
  "language_info": {
   "codemirror_mode": {
    "name": "ipython",
    "version": 3
   },
   "file_extension": ".py",
   "mimetype": "text/x-python",
   "name": "python",
   "nbconvert_exporter": "python",
   "pygments_lexer": "ipython3",
   "version": "3.8.16"
  }
 },
 "nbformat": 4,
 "nbformat_minor": 5
}
